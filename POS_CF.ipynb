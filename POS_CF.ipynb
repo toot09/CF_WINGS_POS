{
  "nbformat": 4,
  "nbformat_minor": 0,
  "metadata": {
    "colab": {
      "name": "POS_CF.ipynb",
      "provenance": [],
      "collapsed_sections": [],
      "toc_visible": true,
      "authorship_tag": "ABX9TyNV4C1ueHfbrKGbv5uxYplj",
      "include_colab_link": true
    },
    "kernelspec": {
      "name": "python3",
      "display_name": "Python 3"
    },
    "language_info": {
      "name": "python"
    }
  },
  "cells": [
    {
      "cell_type": "markdown",
      "metadata": {
        "id": "view-in-github",
        "colab_type": "text"
      },
      "source": [
        "<a href=\"https://colab.research.google.com/github/toot09/CF_WINGS_POS/blob/master/POS_CF.ipynb\" target=\"_parent\"><img src=\"https://colab.research.google.com/assets/colab-badge.svg\" alt=\"Open In Colab\"/></a>"
      ]
    },
    {
      "cell_type": "markdown",
      "metadata": {
        "id": "h7YT5edy17D8"
      },
      "source": [
        "# Source : https://data-science-hi.tistory.com/73"
      ]
    },
    {
      "cell_type": "code",
      "metadata": {
        "id": "0VPfFQMt04oY"
      },
      "source": [
        "import numpy as np\n",
        "import pandas as pd\n",
        "import math\n",
        "import operator"
      ],
      "execution_count": null,
      "outputs": []
    },
    {
      "cell_type": "code",
      "metadata": {
        "id": "hhfLPrGF1Eb_",
        "colab": {
          "base_uri": "https://localhost:8080/"
        },
        "outputId": "362aa710-86d0-4637-c7ef-58b7c909e7dc"
      },
      "source": [
        "# 상품 마스터\n",
        "items=[]\n",
        "with open('POSITEM_061.csv','r',encoding='UTF-8') as f:\n",
        "  for line in f.readlines():\n",
        "    items.append(line.strip().split(\",\"))\n",
        "all_item = [i[0] for i in items[1:]]\n",
        "print(all_item[:2])"
      ],
      "execution_count": null,
      "outputs": [
        {
          "output_type": "stream",
          "text": [
            "['신백설너비아니560G/냉동(씨제이제일제당)', '(A)치킨너겟700g(뉴)(씨제이제일제당)']\n"
          ],
          "name": "stdout"
        }
      ]
    },
    {
      "cell_type": "code",
      "metadata": {
        "colab": {
          "base_uri": "https://localhost:8080/"
        },
        "id": "vOqmR0Fl25GG",
        "outputId": "b1b56a1f-3513-4d80-f3f6-502c0467b1fe"
      },
      "source": [
        "# 매출 마스터\n",
        "sales=[]\n",
        "with open('2023_POS.csv','r',encoding='UTF-8') as f:\n",
        "  for line in f.readlines():\n",
        "    sales.append(line.strip().split(\",\"))\n",
        "print(sales[:2])"
      ],
      "execution_count": null,
      "outputs": [
        {
          "output_type": "stream",
          "text": [
            "[['\\ufeffregion', ' item', ' sale'], ['강원도', '간장치킨230G(하림)', '2']]\n"
          ],
          "name": "stdout"
        }
      ]
    },
    {
      "cell_type": "code",
      "metadata": {
        "id": "DVgg2i7a3g9z"
      },
      "source": [
        "def ratings_dictionary(ratings):\n",
        "  r_dict={}\n",
        "  for i in sales[1:]:\n",
        "    if i[0]"
      ],
      "execution_count": null,
      "outputs": []
    }
  ]
}