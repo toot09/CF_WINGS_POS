{
  "nbformat": 4,
  "nbformat_minor": 0,
  "metadata": {
    "colab": {
      "name": "POS_CF_ONEPERSON.ipynb",
      "provenance": [],
      "collapsed_sections": [],
      "toc_visible": true,
      "authorship_tag": "ABX9TyNeDXqWIwZeGvUj74UqoMIY",
      "include_colab_link": true
    },
    "kernelspec": {
      "name": "python3",
      "display_name": "Python 3"
    },
    "language_info": {
      "name": "python"
    }
  },
  "cells": [
    {
      "cell_type": "markdown",
      "metadata": {
        "id": "view-in-github",
        "colab_type": "text"
      },
      "source": [
        "<a href=\"https://colab.research.google.com/github/toot09/CF_WINGS_POS/blob/master/POS_CF_ONEPERSON.ipynb\" target=\"_parent\"><img src=\"https://colab.research.google.com/assets/colab-badge.svg\" alt=\"Open In Colab\"/></a>"
      ]
    },
    {
      "cell_type": "markdown",
      "metadata": {
        "id": "h7YT5edy17D8"
      },
      "source": [
        "# Source : https://data-science-hi.tistory.com/73"
      ]
    },
    {
      "cell_type": "code",
      "metadata": {
        "id": "0VPfFQMt04oY"
      },
      "source": [
        "import numpy as np\n",
        "import pandas as pd\n",
        "import math\n",
        "import operator"
      ],
      "execution_count": 8,
      "outputs": []
    },
    {
      "cell_type": "code",
      "metadata": {
        "id": "hhfLPrGF1Eb_",
        "colab": {
          "base_uri": "https://localhost:8080/"
        },
        "outputId": "d48abd99-5d3d-40f6-c64a-39fcf398ef89"
      },
      "source": [
        "# 상품 마스터\n",
        "items=[]\n",
        "with open('ITEM_2114.csv','r',encoding='UTF-8') as f:\n",
        "  for line in f.readlines():\n",
        "    items.append(line.strip().split(\",\"))\n",
        "all_item = [i[0] for i in items[1:]]\n",
        "print(len(all_item))\n",
        "print(all_item[:2])"
      ],
      "execution_count": 26,
      "outputs": [
        {
          "output_type": "stream",
          "text": [
            "537\n",
            "['고메플레인스콘(1)', '손수동그랑땡1KG(다향)']\n"
          ],
          "name": "stdout"
        }
      ]
    },
    {
      "cell_type": "code",
      "metadata": {
        "colab": {
          "base_uri": "https://localhost:8080/"
        },
        "id": "vOqmR0Fl25GG",
        "outputId": "ad5b01c1-82c7-49b1-ace3-c59aeb4c740f"
      },
      "source": [
        "# 매출 마스터\n",
        "sales=[]\n",
        "with open('POS_2114.csv','r',encoding='UTF-8') as f:\n",
        "  for line in f.readlines():\n",
        "    sales.append(line.strip().split(\",\"))\n",
        "print(sales[:2])"
      ],
      "execution_count": 68,
      "outputs": [
        {
          "output_type": "stream",
          "text": [
            "[['\\ufeffADDR', 'ITEM', 'SALE'], ['강원도 강릉시', '고메그릴피자불고기360G/냉동(씨제이제일제당)', '6']]\n"
          ],
          "name": "stdout"
        }
      ]
    },
    {
      "cell_type": "code",
      "metadata": {
        "colab": {
          "base_uri": "https://localhost:8080/"
        },
        "id": "fLy7a-XAYxBc",
        "outputId": "ac943a3f-9314-43a8-a2c3-5a4e27ad94ae"
      },
      "source": [
        "# 1인 가구 비율\n",
        "tmp=[]\n",
        "with open('RT_ONE.csv','r',encoding='UTF-8') as f:\n",
        "  for line in f.readlines():\n",
        "    tmp.append(line.strip().split(\",\"))\n",
        "rtOne={}\n",
        "for i in tmp[1:]:\n",
        "  rtOne[i[0]] = float(i[1])\n",
        "print(rtOne)"
      ],
      "execution_count": 122,
      "outputs": [
        {
          "output_type": "stream",
          "text": [
            "{'고양시 덕양구': 0.25117018054214, '고양시 일산동구': 0.26290805455411, '고양시 일산서구': 0.18866716363705, '광주광역시 광산구': 0.27208691125091, '광주광역시 남구': 0.2835011082379, '광주광역시 동구': 0.38482906450272, '광주광역시 북구': 0.31562951522096, '광주광역시 서구': 0.32198044780826, '김제시 고창군': 0.34874759152215, '김제시 무주군': 0.34786803009839, '김제시 부안군': 0.33770197486535, '김제시 순창군': 0.32988089073019, '김제시 완주군': 0.3189087977531, '김제시 임실군': 0.37492764409162, '김제시 장수군': 0.33464945043218, '김제시 진안군': 0.34933078393881, '대구광역시 남구': 0.41259015821312, '대구광역시 달서구': 0.27962935351745, '대구광역시 달성군': 0.23703560174184, '대구광역시 동구': 0.29739989562407, '대구광역시 북구': 0.2910230896221, '대구광역시 서구': 0.12146753097694, '대구광역시 수성구': 0.23792925218092, '대구광역시 중구': 0.24250052443885, '대전광역시 대덕구': 0.31045729242322, '대전광역시 동구': 0.37501949317738, '대전광역시 서구': 0.32746638693604, '대전광역시 유성구': 0.34014655633773, '대전광역시 중구': 0.30515306227908, '부산광역시 강서구': 0.23983178379269, '부산광역시 금정구': 0.33715389318607, '부산광역시 기장군': 0.26529019101785, '부산광역시 남구': 0.2969270346942, '부산광역시 동구': 0.36826024442846, '부산광역시 동래구': 0.25846525096525, '부산광역시 부산진구': 0.35186078971054, '부산광역시 북구': 0.26174757968885, '부산광역시 사상구': 0.31495770804911, '부산광역시 사하구': 0.28992731048805, '부산광역시 서구': 0.3747933709151, '부산광역시 수영구': 0.33746138311957, '부산광역시 연제구': 0.28908899823245, '부산광역시 영도구': 0.34233839660767, '부산광역시 중구': 0.43850998388907, '부산광역시 해운대구': 0.26656342622857, '삼척시 고성군': 0.33855827134254, '삼척시 양구군': 0.29458894565722, '삼척시 양양군': 0.35289235621213, '삼척시 영월군': 0.36264196054991, '삼척시 인제군': 0.31511357251785, '삼척시 정선군': 0.3547462914624, '삼척시 철원군': 0.2711527208894, '삼척시 평창군': 0.3507209263486, '삼척시 홍천군': 0.32045391255917, '삼척시 화천군': 0.33645430490535, '삼척시 횡성군': 0.31092787809205, '서울특별시 강남구': 0.3149813126883, '서울특별시 강동구': 0.27275745302436, '서울특별시 강북구': 0.32875438879541, '서울특별시 강서구': 0.32633418304415, '서울특별시 관악구': 0.47350665049636, '서울특별시 광진구': 0.37003144832454, '서울특별시 구로구': 0.26694699642691, '서울특별시 금천구': 0.33957752808988, '서울특별시 노원구': 0.26297245355541, '서울특별시 도봉구': 0.25541484477053, '서울특별시 동대문구': 0.36883966967309, '서울특별시 동작구': 0.34869402227212, '서울특별시 마포구': 0.36536528511787, '서울특별시 서대문구': 0.34550756116247, '서울특별시 서초구': 0.27066958480032, '서울특별시 성동구': 0.32525067224848, '서울특별시 성북구': 0.31672453640316, '서울특별시 송파구': 0.26882026858213, '서울특별시 양천구': 0.22013130958293, '서울특별시 영등포구': 0.34304065998821, '서울특별시 용산구': 0.35226555218136, '서울특별시 은평구': 0.28266815099469, '서울특별시 종로구': 0.36468588322246, '서울특별시 중구': 0.3714333781965, '서울특별시 중랑구': 0.31939396164531, '안산시 단원구': 0.24713148426211, '안산시 상록구': 0.29226552812535, '안양시 동안구': 0.20323356024984, '안양시 만안구': 0.24924167405013, '여주시 가평군': 0.33247900319388, '여주시 양평군': 0.30411053095253, '여주시 연천군': 0.32278445934711, '용인시 기흥구': 0.20629183574942, '용인시 수지구': 0.19000507759195, '용인시 처인구': 0.26779895527326, '전주시 덕진구': 0.29804423785356, '전주시 완산구': 0.31184558281942, '제주특별자치도 서귀포시': 0.29953401155875, '제주특별자치도 제주시': 0.28438437330325, '창원시 거창군': 0.32635103566422, '창원시 고성군': 0.34089579113211, '창원시 남해군': 0.36451464499309, '창원시 마산합포구': 0.31604200737967, '창원시 마산회원구': 0.26840312615514, '창원시 산청군': 0.37269514937359, '창원시 성산구': 0.24354596532015, '창원시 의령군': 0.40307443365695, '창원시 의창구': 0.27882661909717, '창원시 진해구': 0.27521104940459, '창원시 창녕군': 0.34081305551508, '창원시 하동군': 0.35260736196319, '창원시 함안군': 0.31028336546506, '창원시 함양군': 0.37378584643848, '창원시 합천군': 0.39021268215833, '청주시 괴산군': 0.37510858863728, '청주시 단양군': 0.34938628723321, '청주시 보은군': 0.33563283119808, '청주시 상당구': 0.24878451380552, '청주시 서원구': 0.32539934039881, '청주시 영동군': 0.34705323193916, '청주시 옥천군': 0.28277035236938, '청주시 음성군': 0.34111415781949, '청주시 증평군': 0.33117130866081, '청주시 진천군': 0.30119902720434, '청주시 청원구': 0.32413767634241, '청주시 흥덕구': 0.32440013330371, '포항시 남구': 0.29270879915138, '포항시 북구': 0.27282057920627}\n"
          ],
          "name": "stdout"
        }
      ]
    },
    {
      "cell_type": "code",
      "metadata": {
        "id": "DVgg2i7a3g9z"
      },
      "source": [
        "# 지역별, 상품별 판매수량 Dict\n",
        "def sales_dictionary(ratings):\n",
        "  s_dict={}\n",
        "  for i in sales[1:]:\n",
        "    if i[0] not in s_dict:\n",
        "      s_dict[i[0]] = {i[1]:float(i[2])}\n",
        "    else:\n",
        "      s_dict[i[0]].setdefault(i[1],float(i[2]))\n",
        "  #{ ADDR : { ITEM : SALE }\n",
        "  return s_dict"
      ],
      "execution_count": 40,
      "outputs": []
    },
    {
      "cell_type": "code",
      "metadata": {
        "id": "kqdfuslt5unJ"
      },
      "source": [
        "# 코사인 유사도\n",
        "def cosine_similarity(A,B):\n",
        "  dot_p = np.dot(A,B)\n",
        "  A_norms = math.sqrt(sum([i**2 for i in A]))\n",
        "  B_norms = math.sqrt(sum([i**2 for i in B]))\n",
        "  AB_norms = A_norms*B_norms\n",
        "  return dot_p/AB_norms"
      ],
      "execution_count": 118,
      "outputs": []
    },
    {
      "cell_type": "code",
      "metadata": {
        "id": "4ol_I4ZqgJbr"
      },
      "source": [
        "# 지역별 판매현황\n",
        "slDf = pd.DataFrame(np.array(sales[1:]),columns=sales[0])\n",
        "# 지역별, 상품별 판매수량 { 지역 : {상품 : 판매수량} }\n",
        "s_dict = sales_dictionary(slDf)"
      ],
      "execution_count": 69,
      "outputs": []
    },
    {
      "cell_type": "code",
      "metadata": {
        "id": "kJq6ln3175dN"
      },
      "source": [
        "# 사용자기반 필터링 (User Based Filtering - UBF)\n",
        "def user_based_filtering(sale_dict, addr, k=3):\n",
        "  # 지역의 매출 상품 집합(Set)\n",
        "  addr_s = set(sale_dict[addr].keys())\n",
        "  similar_score={}\n",
        "  \n",
        "  for other_addr in sale_dict.keys():\n",
        "    # addr과 other_addr의 공통 매출 상품 교집합(intersection)\n",
        "    both_s = addr_s.intersection(set(sale_dict[other_addr].keys()))\n",
        "    # 공통된 매출상품이 1개 이상인 경우만 고려\n",
        "    if (len(both_s)>=1) and (other_addr in rtOne.keys()):\n",
        "      # 매출수량과 1인가구 비율 차이 가중값으로 코사인 유사도 도출\n",
        "      addr_s_sale = [sale_dict[addr][i] for i in both_s]\n",
        "      addr_other_sale = [sale_dict[other_addr][i] for i in both_s]\n",
        "      similar_score[other_addr] = cosine_similarity(addr_s_sale, addr_other_sale) - abs(rtOne[addr]-rtOne[other_addr])/10000\n",
        "  \n",
        "  #유사도 높은 지역순으로 sort\n",
        "  neighborhood = sorted(similar_score.items(), key=operator.itemgetter(1), reverse=True)\n",
        "  print(\"■■■ 지역의 유사도 현황 ■■■\")\n",
        "  print(neighborhood[:50])\n",
        "\n",
        "  # 추천을 위한 neighborhood 리스트\n",
        "  addr_for_recommendation = [i[0] for i in neighborhood]\n",
        "  # addr에 판매기록이 없는 상품리스트\n",
        "  no_sale_i = set(all_item) - addr_s\n",
        "\n",
        "  # 추천결과\n",
        "  recommendation_of_items = {}\n",
        "  for item in no_sale_i:\n",
        "    r=[]\n",
        "    s=[]\n",
        "    for addr in addr_for_recommendation:\n",
        "      if item in sale_dict[addr].keys():\n",
        "        # 1인가구로 계산된 유사도로 예상 매출수량 반영\n",
        "        r.append(sale_dict[addr][item]*similar_score[addr])\n",
        "        s.append(similar_score[addr])\n",
        "      else:\n",
        "        continue\n",
        "    # 판매상품기록이 없는 상품이 다른 지역에도 판매되지 않은경우\n",
        "    if (len(r)==0):\n",
        "      continue\n",
        "    # k보다 작거나 같은 판매기록이 있는경우 사용자끼리의 가중평균을 구함\n",
        "    elif len(r)<=k:\n",
        "      recommendation_of_items[item] = sum(r)/sum(s)\n",
        "    # K보다 많은 판매기록이 있는경우 정확도를 위해 상위 k번째의 지역에 대해서만 평균(가중평균)을 둠\n",
        "    else:\n",
        "      recommendation_of_items[item] = sum(r[:k])/sum(s[:k])\n",
        "    \n",
        "  return sorted(recommendation_of_items.items(), key=operator.itemgetter(1), reverse=True)[:1000]"
      ],
      "execution_count": 129,
      "outputs": []
    },
    {
      "cell_type": "code",
      "metadata": {
        "colab": {
          "base_uri": "https://localhost:8080/",
          "height": 475
        },
        "id": "WlQQUXZLgpyI",
        "outputId": "6deb7d80-5fd7-4c09-d0af-6342b164cdbc"
      },
      "source": [
        "# 사용자 기반 필터링\n",
        "recommendation_1000 = user_based_filtering(s_dict, '대구광역시 서구')\n",
        "pd.DataFrame(np.array(recommendation_1000),columns=[\"상품명\",\"예상판매수량\"])"
      ],
      "execution_count": 134,
      "outputs": [
        {
          "output_type": "stream",
          "text": [
            "■■■ 지역의 유사도 현황 ■■■\n",
            "[('대구광역시 서구', 1.0), ('부산광역시 부산진구', 0.8808604785775682), ('서울특별시 관악구', 0.8142540320721011), ('대구광역시 북구', 0.8055489742043255), ('대구광역시 남구', 0.7855459066989927), ('서울특별시 강서구', 0.7641749102319046), ('대구광역시 달서구', 0.7641044941213585), ('서울특별시 마포구', 0.7272756365311874), ('대전광역시 중구', 0.7245121019003871), ('부산광역시 동구', 0.719815943727491), ('부산광역시 북구', 0.709396524294562), ('부산광역시 연제구', 0.705422686345951), ('제주특별자치도 서귀포시', 0.7020718583097929), ('부산광역시 금정구', 0.6895737036190462), ('대전광역시 서구', 0.688855122136212), ('서울특별시 광진구', 0.6817024652834135), ('서울특별시 용산구', 0.6784896031497708), ('대구광역시 수성구', 0.6744830055551307), ('광주광역시 동구', 0.660580584493581), ('서울특별시 금천구', 0.6570587512716688), ('대구광역시 동구', 0.6562745610987136), ('광주광역시 남구', 0.6561584052457454), ('서울특별시 강동구', 0.6559286292506102), ('대전광역시 동구', 0.653169703856293), ('대전광역시 유성구', 0.6462058618819214), ('서울특별시 성북구', 0.6439280301278013), ('광주광역시 서구', 0.6423364567702614), ('부산광역시 수영구', 0.6399452304250719), ('광주광역시 광산구', 0.6375354563200633), ('서울특별시 도봉구', 0.637163239269724), ('대구광역시 중구', 0.6370350964262744), ('서울특별시 동대문구', 0.6345954282091307), ('서울특별시 서대문구', 0.6293093544122483), ('서울특별시 은평구', 0.6229717975653155), ('서울특별시 중랑구', 0.6214442456273148), ('대전광역시 대덕구', 0.6167022047888737), ('부산광역시 사상구', 0.6060724862889759), ('서울특별시 양천구', 0.6045571916439927), ('부산광역시 서구', 0.6025001144721503), ('부산광역시 동래구', 0.6019322602854561), ('서울특별시 영등포구', 0.5968814001282454), ('서울특별시 종로구', 0.5957611703728122), ('서울특별시 강남구', 0.5953909252974188), ('대구광역시 달성군', 0.5907372731628235), ('제주특별자치도 제주시', 0.5897811053084573), ('부산광역시 영도구', 0.5884280722132204), ('광주광역시 북구', 0.5814878261847413), ('부산광역시 중구', 0.5793748154236273), ('서울특별시 노원구', 0.5758080894621616), ('서울특별시 동작구', 0.5757793277605715)]\n"
          ],
          "name": "stdout"
        },
        {
          "output_type": "execute_result",
          "data": {
            "text/html": [
              "<div>\n",
              "<style scoped>\n",
              "    .dataframe tbody tr th:only-of-type {\n",
              "        vertical-align: middle;\n",
              "    }\n",
              "\n",
              "    .dataframe tbody tr th {\n",
              "        vertical-align: top;\n",
              "    }\n",
              "\n",
              "    .dataframe thead th {\n",
              "        text-align: right;\n",
              "    }\n",
              "</style>\n",
              "<table border=\"1\" class=\"dataframe\">\n",
              "  <thead>\n",
              "    <tr style=\"text-align: right;\">\n",
              "      <th></th>\n",
              "      <th>상품명</th>\n",
              "      <th>예상판매수량</th>\n",
              "    </tr>\n",
              "  </thead>\n",
              "  <tbody>\n",
              "    <tr>\n",
              "      <th>0</th>\n",
              "      <td>대림선안심치킨텐더스틱540G(사조)</td>\n",
              "      <td>26.36051714833558</td>\n",
              "    </tr>\n",
              "    <tr>\n",
              "      <th>1</th>\n",
              "      <td>청정원숯불떡갈비1KG(대상)</td>\n",
              "      <td>18.0</td>\n",
              "    </tr>\n",
              "    <tr>\n",
              "      <th>2</th>\n",
              "      <td>쉐프원해물볶음밥300G(대상)</td>\n",
              "      <td>15.789943240217553</td>\n",
              "    </tr>\n",
              "    <tr>\n",
              "      <th>3</th>\n",
              "      <td>쉐프원새우볶음밥300G(대상)</td>\n",
              "      <td>14.594745300257399</td>\n",
              "    </tr>\n",
              "    <tr>\n",
              "      <th>4</th>\n",
              "      <td>쉐프원햄야채볶음밥300G(대상)</td>\n",
              "      <td>14.027990477906338</td>\n",
              "    </tr>\n",
              "    <tr>\n",
              "      <th>...</th>\n",
              "      <td>...</td>\n",
              "      <td>...</td>\n",
              "    </tr>\n",
              "    <tr>\n",
              "      <th>336</th>\n",
              "      <td>안동식찜닭400G(하림)</td>\n",
              "      <td>1.0</td>\n",
              "    </tr>\n",
              "    <tr>\n",
              "      <th>337</th>\n",
              "      <td>신비비고언양식바싹불고기460G+92G_HP/냉동(씨제이제일제당)</td>\n",
              "      <td>1.0</td>\n",
              "    </tr>\n",
              "    <tr>\n",
              "      <th>338</th>\n",
              "      <td>팝콘치킨1KG(한성기업)</td>\n",
              "      <td>1.0</td>\n",
              "    </tr>\n",
              "    <tr>\n",
              "      <th>339</th>\n",
              "      <td>한성동그랑땡1KG(한성기업)</td>\n",
              "      <td>1.0</td>\n",
              "    </tr>\n",
              "    <tr>\n",
              "      <th>340</th>\n",
              "      <td>요리교실왕떡갈비1KG(동원에프앤비)</td>\n",
              "      <td>1.0</td>\n",
              "    </tr>\n",
              "  </tbody>\n",
              "</table>\n",
              "<p>341 rows × 2 columns</p>\n",
              "</div>"
            ],
            "text/plain": [
              "                                     상품명              예상판매수량\n",
              "0                    대림선안심치킨텐더스틱540G(사조)   26.36051714833558\n",
              "1                        청정원숯불떡갈비1KG(대상)                18.0\n",
              "2                       쉐프원해물볶음밥300G(대상)  15.789943240217553\n",
              "3                       쉐프원새우볶음밥300G(대상)  14.594745300257399\n",
              "4                      쉐프원햄야채볶음밥300G(대상)  14.027990477906338\n",
              "..                                   ...                 ...\n",
              "336                        안동식찜닭400G(하림)                 1.0\n",
              "337  신비비고언양식바싹불고기460G+92G_HP/냉동(씨제이제일제당)                 1.0\n",
              "338                        팝콘치킨1KG(한성기업)                 1.0\n",
              "339                      한성동그랑땡1KG(한성기업)                 1.0\n",
              "340                  요리교실왕떡갈비1KG(동원에프앤비)                 1.0\n",
              "\n",
              "[341 rows x 2 columns]"
            ]
          },
          "metadata": {
            "tags": []
          },
          "execution_count": 134
        }
      ]
    },
    {
      "cell_type": "code",
      "metadata": {
        "id": "KTIClpZbCfI3"
      },
      "source": [
        "# 아이템 기반 필터링 (Item Based Filtering - IBF)\n",
        "def item_based_filtering(sale_dict, addr, k=3):\n",
        "  # 임시 (addr 별 매출이 있는 상품 list)\n",
        "  #tmp = [list(sale_dict[i].keys()) for i in list(sale_dict.keys())]\n",
        "  # 매출이 발생하지 않은 상품들 체크를 위한 list(데이터는 모든 매출이 발생한 상품)\n",
        "  #no_sale_i = list(j for i in tmp for j in i)\n",
        "  \n",
        "  # 매출이 발생하지 않은 상품들 (ujone)\n",
        "  no_sale_i = set(all_item) - sale_dict[addr].keys()\n",
        "  # addr에 매출 발생된 상품\n",
        "  sale_i = [i for i in sale_dict[addr].keys()]\n",
        "\n",
        "  # 매출 발생되지 않은 상품에 대한 dict\n",
        "  c_s = {}\n",
        "\n",
        "  # j:매출발생된 상품 / i:매출발생하지 않은 상품(알아볼 상품)\n",
        "  for i in no_sale_i:\n",
        "    c_s[i] = {}\n",
        "    for j in sale_i:\n",
        "      p_i = []\n",
        "      p_j = []\n",
        "      for p in list(sale_dict.keys()):\n",
        "        if j in sale_dict[p].keys() and i in sale_dict[p].keys() and p in rtOne.keys():\n",
        "          p_i.append(sale_dict[p][i] - abs(rtOne[addr]-rtOne[p])/10000)\n",
        "          p_j.append(sale_dict[p][j] - abs(rtOne[addr]-rtOne[p])/10000)\n",
        "      if len(p_i)>0:\n",
        "        c = cosine_similarity(p_i, p_j)\n",
        "        c_s[i].setdefault(j,c)\n",
        "        #{ 매출발생하지 않은 상품 : {매출발생된 상품 : 코사인유사도} }\n",
        "  \n",
        "  print(\"■■■ 상품별 유사도 현황 ■■■\")\n",
        "  for i in list(c_s.keys())[:2]:\n",
        "    tmp = sorted(c_s[i].items(), key=operator.itemgetter(1), reverse=True)\n",
        "    print(\"예상 상품 : \",i,\" 매출발생 상품 : \",tmp[0],\" 유사도 : \",tmp[1])\n",
        "  \n",
        "  # 결과\n",
        "  result = {}\n",
        "\n",
        "  # 매출 발생하지 않은 상품에 대한 코사인 유사도 계산\n",
        "  for i in list(c_s.keys()):\n",
        "    sum_sim_rating=[]\n",
        "    sum_sim=[]\n",
        "    # 코사인 유사도가 높은순으로 정렬\n",
        "    k_i_j = sorted(c_s[i].items(), key=operator.itemgetter(1), reverse=True)\n",
        "\n",
        "    for j in k_i_j:\n",
        "      # 코사인 유사도\n",
        "      sum_sim.append(j[1])\n",
        "      # 코사인 유사도와 매출발생된 상품간의 예측계산\n",
        "      sum_sim_rating.append( j[1]*sale_dict[addr][j[0]] )\n",
        "\n",
        "    if len(sum_sim)>0:\n",
        "      # 매출 발생하지 않은 상품에 대한 예측 매출수량\n",
        "      result[i] = sum(sum_sim_rating)/sum(sum_sim)\n",
        "\n",
        "  return sorted(result.items(), key=operator.itemgetter(1), reverse=True)"
      ],
      "execution_count": 132,
      "outputs": []
    },
    {
      "cell_type": "code",
      "metadata": {
        "colab": {
          "base_uri": "https://localhost:8080/",
          "height": 473
        },
        "id": "9AS3dVurhP3n",
        "outputId": "8eb26f03-b3b1-44e0-a882-7496441b4b42"
      },
      "source": [
        "# 아이템 기반 필터링\n",
        "recommendation_1000 = item_based_filtering(s_dict, '대구광역시 서구')\n",
        "pd.DataFrame(np.array(recommendation_1000),columns=[\"상품명\",\"예상판매수량\"])\n"
      ],
      "execution_count": 133,
      "outputs": [
        {
          "output_type": "stream",
          "text": [
            "■■■ 상품별 유사도 현황 ■■■\n",
            "예상 상품 :  생가득현미취나물솥밥(2인분)420G(풀무원)  매출발생 상품 :  ('매콤마늘퐁닭200G(롯데푸드)', 1.0)  유사도 :  ('목우촌프라임리얼동그랑땡300G*2(목우촌)', 1.0)\n",
            "예상 상품 :  대림선핫도그800G(사조)  매출발생 상품 :  ('순살마늘퐁닭200G(롯데푸드)', 1.0)  유사도 :  ('매콤마늘퐁닭200G(롯데푸드)', 0.9999999999999998)\n"
          ],
          "name": "stdout"
        },
        {
          "output_type": "execute_result",
          "data": {
            "text/html": [
              "<div>\n",
              "<style scoped>\n",
              "    .dataframe tbody tr th:only-of-type {\n",
              "        vertical-align: middle;\n",
              "    }\n",
              "\n",
              "    .dataframe tbody tr th {\n",
              "        vertical-align: top;\n",
              "    }\n",
              "\n",
              "    .dataframe thead th {\n",
              "        text-align: right;\n",
              "    }\n",
              "</style>\n",
              "<table border=\"1\" class=\"dataframe\">\n",
              "  <thead>\n",
              "    <tr style=\"text-align: right;\">\n",
              "      <th></th>\n",
              "      <th>상품명</th>\n",
              "      <th>예상판매수량</th>\n",
              "    </tr>\n",
              "  </thead>\n",
              "  <tbody>\n",
              "    <tr>\n",
              "      <th>0</th>\n",
              "      <td>맛있는불닭철판볶음밥230G(오뚜기)</td>\n",
              "      <td>6.320754716981132</td>\n",
              "    </tr>\n",
              "    <tr>\n",
              "      <th>1</th>\n",
              "      <td>쉐푸드한입에쏙들어가는김말이야채잡채400G(롯데푸드)</td>\n",
              "      <td>6.175438596491228</td>\n",
              "    </tr>\n",
              "    <tr>\n",
              "      <th>2</th>\n",
              "      <td>동그랑땡500G(동원에프앤비)</td>\n",
              "      <td>6.0476190476190474</td>\n",
              "    </tr>\n",
              "    <tr>\n",
              "      <th>3</th>\n",
              "      <td>야채바삭꼬마김말이(롯데푸드)</td>\n",
              "      <td>5.690476190476191</td>\n",
              "    </tr>\n",
              "    <tr>\n",
              "      <th>4</th>\n",
              "      <td>오쉐프통살오징어바1KG(오뚜기)</td>\n",
              "      <td>5.690476190476191</td>\n",
              "    </tr>\n",
              "    <tr>\n",
              "      <th>...</th>\n",
              "      <td>...</td>\n",
              "      <td>...</td>\n",
              "    </tr>\n",
              "    <tr>\n",
              "      <th>336</th>\n",
              "      <td>목우촌오븐구이떡갈비1KG(목우촌)</td>\n",
              "      <td>4.519551823116704</td>\n",
              "    </tr>\n",
              "    <tr>\n",
              "      <th>337</th>\n",
              "      <td>명품동그랑땡1KG(동원에프앤비)</td>\n",
              "      <td>4.454082463877296</td>\n",
              "    </tr>\n",
              "    <tr>\n",
              "      <th>338</th>\n",
              "      <td>새우)볶음밥(아워홈)</td>\n",
              "      <td>4.427778984108566</td>\n",
              "    </tr>\n",
              "    <tr>\n",
              "      <th>339</th>\n",
              "      <td>초가삼간순희네빈대떡녹두빈대떡360G(롯데푸드)</td>\n",
              "      <td>4.398208123187061</td>\n",
              "    </tr>\n",
              "    <tr>\n",
              "      <th>340</th>\n",
              "      <td>하림핫도그스위트1KG(하림)</td>\n",
              "      <td>4.360912673702625</td>\n",
              "    </tr>\n",
              "  </tbody>\n",
              "</table>\n",
              "<p>341 rows × 2 columns</p>\n",
              "</div>"
            ],
            "text/plain": [
              "                              상품명              예상판매수량\n",
              "0             맛있는불닭철판볶음밥230G(오뚜기)   6.320754716981132\n",
              "1    쉐푸드한입에쏙들어가는김말이야채잡채400G(롯데푸드)   6.175438596491228\n",
              "2                동그랑땡500G(동원에프앤비)  6.0476190476190474\n",
              "3                 야채바삭꼬마김말이(롯데푸드)   5.690476190476191\n",
              "4               오쉐프통살오징어바1KG(오뚜기)   5.690476190476191\n",
              "..                            ...                 ...\n",
              "336            목우촌오븐구이떡갈비1KG(목우촌)   4.519551823116704\n",
              "337             명품동그랑땡1KG(동원에프앤비)   4.454082463877296\n",
              "338                   새우)볶음밥(아워홈)   4.427778984108566\n",
              "339     초가삼간순희네빈대떡녹두빈대떡360G(롯데푸드)   4.398208123187061\n",
              "340               하림핫도그스위트1KG(하림)   4.360912673702625\n",
              "\n",
              "[341 rows x 2 columns]"
            ]
          },
          "metadata": {
            "tags": []
          },
          "execution_count": 133
        }
      ]
    }
  ]
}