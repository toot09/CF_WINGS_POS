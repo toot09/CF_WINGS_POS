{
  "nbformat": 4,
  "nbformat_minor": 0,
  "metadata": {
    "colab": {
      "name": "POS_CF_ONEPERSON.ipynb",
      "provenance": [],
      "collapsed_sections": [],
      "toc_visible": true,
      "authorship_tag": "ABX9TyMJX7aRqanO0K3BhMx9Ho+r",
      "include_colab_link": true
    },
    "kernelspec": {
      "name": "python3",
      "display_name": "Python 3"
    },
    "language_info": {
      "name": "python"
    }
  },
  "cells": [
    {
      "cell_type": "markdown",
      "metadata": {
        "id": "view-in-github",
        "colab_type": "text"
      },
      "source": [
        "<a href=\"https://colab.research.google.com/github/toot09/CF_WINGS_POS/blob/master/POS_CF_ONEPERSON.ipynb\" target=\"_parent\"><img src=\"https://colab.research.google.com/assets/colab-badge.svg\" alt=\"Open In Colab\"/></a>"
      ]
    },
    {
      "cell_type": "markdown",
      "metadata": {
        "id": "h7YT5edy17D8"
      },
      "source": [
        "# Source : https://data-science-hi.tistory.com/73"
      ]
    },
    {
      "cell_type": "code",
      "metadata": {
        "id": "0VPfFQMt04oY"
      },
      "source": [
        "import numpy as np\n",
        "import pandas as pd\n",
        "import math\n",
        "import operator"
      ],
      "execution_count": null,
      "outputs": []
    },
    {
      "cell_type": "code",
      "metadata": {
        "id": "hhfLPrGF1Eb_",
        "colab": {
          "base_uri": "https://localhost:8080/"
        },
        "outputId": "a84d8cb9-b747-4c11-b4ad-e31c3134bf8e"
      },
      "source": [
        "# 상품 마스터\n",
        "items=[]\n",
        "with open('POSITEM_061.csv','r',encoding='UTF-8') as f:\n",
        "  for line in f.readlines():\n",
        "    items.append(line.strip().split(\",\"))\n",
        "all_item = [i[0] for i in items[1:]]\n",
        "print(len(all_item))\n",
        "print(all_item[:2])"
      ],
      "execution_count": null,
      "outputs": [
        {
          "output_type": "stream",
          "text": [
            "858\n",
            "['신백설너비아니560G/냉동(씨제이제일제당)', '(A)치킨너겟700g(뉴)(씨제이제일제당)']\n"
          ],
          "name": "stdout"
        }
      ]
    },
    {
      "cell_type": "code",
      "metadata": {
        "colab": {
          "base_uri": "https://localhost:8080/"
        },
        "id": "vOqmR0Fl25GG",
        "outputId": "b1b56a1f-3513-4d80-f3f6-502c0467b1fe"
      },
      "source": [
        "# 매출 마스터\n",
        "sales=[]\n",
        "with open('2023_POS.csv','r',encoding='UTF-8') as f:\n",
        "  for line in f.readlines():\n",
        "    sales.append(line.strip().split(\",\"))\n",
        "print(sales[:2])"
      ],
      "execution_count": null,
      "outputs": [
        {
          "output_type": "stream",
          "text": [
            "[['\\ufeffregion', ' item', ' sale'], ['강원도', '간장치킨230G(하림)', '2']]\n"
          ],
          "name": "stdout"
        }
      ]
    },
    {
      "cell_type": "code",
      "metadata": {
        "id": "DVgg2i7a3g9z"
      },
      "source": [
        "# 지역별, 상품별 판매수량 Dict\n",
        "def sales_dictionary(ratings):\n",
        "  s_dict={}\n",
        "  for i in sales[1:]:\n",
        "    if i[0] not in s_dict:\n",
        "      s_dict[i[0]] = {i[1]:float(i[2])}\n",
        "    else:\n",
        "      s_dict[i[0]].setdefault(i[1],float(i[2]))\n",
        "  return s_dict"
      ],
      "execution_count": null,
      "outputs": []
    },
    {
      "cell_type": "code",
      "metadata": {
        "id": "kqdfuslt5unJ"
      },
      "source": [
        "# 코사인 유사도\n",
        "def cosine_similarity(A,B):\n",
        "  dot_p = np.dot(A,B)\n",
        "  A_norms = math.sqrt(sum([i**2 for i in A]))\n",
        "  B_norms = math.sqrt(sum([i**2 for i in B]))\n",
        "  AB_norms = A_norms*B_norms\n",
        "  return dot_p/AB_norms"
      ],
      "execution_count": null,
      "outputs": []
    },
    {
      "cell_type": "code",
      "metadata": {
        "id": "kJq6ln3175dN"
      },
      "source": [
        "# 사용자기반 필터링 (User Based Filtering - UBF)\n",
        "def user_based_filtering(sale_dict, region, k=3):\n",
        "  # 지역의 매출 상품 집합(Set)\n",
        "  region_s = set(sale_dict[region].keys())\n",
        "  similar_score={}\n",
        "  \n",
        "  for other_region in sale_dict.keys():\n",
        "    # region과 other_region의 공통 매출 상품 교집합(intersection)\n",
        "    both_s = region_s.intersection(set(sale_dict[other_region].keys()))\n",
        "    # 공통된 매출상품이 1개 이상인 경우만 고려\n",
        "    if len(both_s)>=1:\n",
        "      region_s_sale = [sale_dict[region][i] for i in both_s]\n",
        "      region_other_sale = [sale_dict[other_region][i] for i in both_s]\n",
        "      similar_score[other_region] = cosine_similarity(region_s_sale, region_other_sale)\n",
        "  \n",
        "  #유사도 높은 지역순으로 sort\n",
        "  neighborhood = sorted(similar_score.items(), key=operator.itemgetter(1), reverse=True)\n",
        "  print(\"■■■ 지역의 유사도 현황 ■■■\")\n",
        "  print(neighborhood[:50])\n",
        "\n",
        "  # 추천을 위한 neighborhood 리스트\n",
        "  region_for_recommendation = [i[0] for i in neighborhood]\n",
        "  # region에 판매기록이 없는 상품리스트\n",
        "  no_sale_i = set(all_item) - region_s\n",
        "\n",
        "  # 추천결과\n",
        "  recommendation_of_items = {}\n",
        "\n",
        "  for item in no_sale_i:\n",
        "    r=[]\n",
        "    s=[]\n",
        "    for region in region_for_recommendation:\n",
        "      if item in sale_dict[region].keys():\n",
        "        r.append(sale_dict[region][item]*similar_score[region])\n",
        "        s.append(similar_score[region])\n",
        "      else:\n",
        "        continue\n",
        "    # 판매상품기록이 없는 상품이 다른 지역에도 판매되지 않은경우\n",
        "    if (len(r)==0):\n",
        "      continue\n",
        "    # k보다 작거나 같은 판매기록이 있는경우 사용자끼리의 가중평균을 구함\n",
        "    elif len(r)<=k:\n",
        "      recommendation_of_items[item] = sum(r)/sum(s)\n",
        "    # K보다 많은 판매기록이 있는경우 정확도를 위해 상위 k번째의 지역에 대해서만 평균(가중평균)을 둠\n",
        "    else:\n",
        "      recommendation_of_items[item] = sum(r[:k])/sum(s[:k])\n",
        "    \n",
        "  return sorted(recommendation_of_items.items(), key=operator.itemgetter(1), reverse=True)[:1000]"
      ],
      "execution_count": null,
      "outputs": []
    },
    {
      "cell_type": "code",
      "metadata": {
        "id": "KTIClpZbCfI3"
      },
      "source": [
        "# 아이템 기반 필터링 (Item Based Filtering - IBF)\n",
        "def item_based_filtering(sale_dict, region, k=3):\n",
        "  # 임시 (region 별 매출이 있는 상품 list)\n",
        "  #tmp = [list(sale_dict[i].keys()) for i in list(sale_dict.keys())]\n",
        "  # 매출이 발생하지 않은 상품들 체크를 위한 list(데이터는 모든 매출이 발생한 상품)\n",
        "  #no_sale_i = list(j for i in tmp for j in i)\n",
        "  \n",
        "  # 매출이 발생하지 않은 상품들 (ujone)\n",
        "  no_sale_i = set(all_item) - sale_dict[region].keys()\n",
        "  # Region에 매출 발생된 상품\n",
        "  sale_i = [i for i in sale_dict[region].keys()]\n",
        "\n",
        "  # 매출 발생되지 않은 상품에 대한 dict\n",
        "  c_s = {}\n",
        "\n",
        "  # j:매출발생된 상품 / i:매출발생하지 않은 상품(알아볼 상품)\n",
        "  for i in no_sale_i:\n",
        "    c_s[i] = {}\n",
        "    for j in sale_i:\n",
        "      p_i = []\n",
        "      p_j = []\n",
        "      for p in list(sale_dict.keys()):\n",
        "        if j in sale_dict[p].keys() and i in sale_dict[p].keys():\n",
        "          p_i.append(sale_dict[p][i])\n",
        "          p_j.append(sale_dict[p][j])\n",
        "      if len(p_i)>0:\n",
        "        c = cosine_similarity(p_i, p_j)\n",
        "        c_s[i].setdefault(j,c)\n",
        "        #{ 매출발생하지 않은 상품 : {매출발생된 상품 : 코사인유사도} }\n",
        "  \n",
        "  print(\"■■■ 상품별 유사도 현황 ■■■\")\n",
        "  for i in list(c_s.keys())[:2]:\n",
        "    tmp = sorted(c_s[i].items(), key=operator.itemgetter(1), reverse=True)\n",
        "    print(\"예상 상품 : \",i,\" 매출발생 상품 : \",tmp[0],\" 유사도 : \",tmp[1])\n",
        "  \n",
        "  # 결과\n",
        "  result = {}\n",
        "\n",
        "  # 매출 발생하지 않은 상품에 대한 코사인 유사도 계산\n",
        "  for i in list(c_s.keys()):\n",
        "    sum_sim_rating=[]\n",
        "    sum_sim=[]\n",
        "    # 코사인 유사도가 높은순으로 정렬\n",
        "    k_i_j = sorted(c_s[i].items(), key=operator.itemgetter(1), reverse=True)\n",
        "\n",
        "    for j in k_i_j:\n",
        "      # 코사인 유사도\n",
        "      sum_sim.append(j[1])\n",
        "      # 코사인 유사도와 매출발생된 상품간의 예측계산\n",
        "      sum_sim_rating.append( j[1]*sale_dict[region][j[0]] )\n",
        "\n",
        "    if len(sum_sim)>0:\n",
        "      # 매출 발생하지 않은 상품에 대한 예측 매출수량\n",
        "      result[i] = sum(sum_sim_rating)/sum(sum_sim)\n",
        "\n",
        "  return sorted(result.items(), key=operator.itemgetter(1), reverse=True)"
      ],
      "execution_count": null,
      "outputs": []
    },
    {
      "cell_type": "code",
      "metadata": {
        "id": "4ol_I4ZqgJbr"
      },
      "source": [
        "# 지역별 판매현황\n",
        "slDf = pd.DataFrame(np.array(sales[1:]),columns=sales[0])\n",
        "# 지역별, 상품별 판매수량 { 지역 : {상품 : 판매수량} }\n",
        "s_dict = sales_dictionary(slDf)"
      ],
      "execution_count": null,
      "outputs": []
    },
    {
      "cell_type": "code",
      "metadata": {
        "colab": {
          "base_uri": "https://localhost:8080/",
          "height": 437
        },
        "id": "WlQQUXZLgpyI",
        "outputId": "c25154df-1702-480c-e916-553ab2b5fbb9"
      },
      "source": [
        "# 사용자 기반 필터링\n",
        "recommendation_1000 = user_based_filtering(s_dict, '제주특별자치도')\n",
        "pd.DataFrame(np.array(recommendation_1000),columns=[\"상품명\",\"예상판매수량\"])\n"
      ],
      "execution_count": null,
      "outputs": [
        {
          "output_type": "stream",
          "text": [
            "■■■ 지역의 유사도 현황 ■■■\n"
          ],
          "name": "stdout"
        },
        {
          "output_type": "execute_result",
          "data": {
            "text/html": [
              "<div>\n",
              "<style scoped>\n",
              "    .dataframe tbody tr th:only-of-type {\n",
              "        vertical-align: middle;\n",
              "    }\n",
              "\n",
              "    .dataframe tbody tr th {\n",
              "        vertical-align: top;\n",
              "    }\n",
              "\n",
              "    .dataframe thead th {\n",
              "        text-align: right;\n",
              "    }\n",
              "</style>\n",
              "<table border=\"1\" class=\"dataframe\">\n",
              "  <thead>\n",
              "    <tr style=\"text-align: right;\">\n",
              "      <th></th>\n",
              "      <th>상품명</th>\n",
              "      <th>예상판매수량</th>\n",
              "    </tr>\n",
              "  </thead>\n",
              "  <tbody>\n",
              "    <tr>\n",
              "      <th>0</th>\n",
              "      <td>명가등심돈까스(200G*5)1KG(아워홈)</td>\n",
              "      <td>100.2612711497368</td>\n",
              "    </tr>\n",
              "    <tr>\n",
              "      <th>1</th>\n",
              "      <td>하림양념닭갈비(하림)</td>\n",
              "      <td>85.0</td>\n",
              "    </tr>\n",
              "    <tr>\n",
              "      <th>2</th>\n",
              "      <td>빅핫도그140G(롯데푸드)</td>\n",
              "      <td>68.30950689347937</td>\n",
              "    </tr>\n",
              "    <tr>\n",
              "      <th>3</th>\n",
              "      <td>동원미니돈까스450G(동원에프앤비)</td>\n",
              "      <td>58.33503002556607</td>\n",
              "    </tr>\n",
              "    <tr>\n",
              "      <th>4</th>\n",
              "      <td>생가득올바른핫도그375G(풀무원)</td>\n",
              "      <td>51.80590664478655</td>\n",
              "    </tr>\n",
              "    <tr>\n",
              "      <th>...</th>\n",
              "      <td>...</td>\n",
              "      <td>...</td>\n",
              "    </tr>\n",
              "    <tr>\n",
              "      <th>362</th>\n",
              "      <td>생가득현미취나물솥밥(2인분)420G(풀무원)</td>\n",
              "      <td>1.0</td>\n",
              "    </tr>\n",
              "    <tr>\n",
              "      <th>363</th>\n",
              "      <td>치킨너겟550G(하림)</td>\n",
              "      <td>1.0</td>\n",
              "    </tr>\n",
              "    <tr>\n",
              "      <th>364</th>\n",
              "      <td>모짜렐라핫도그400G(롯데푸드)</td>\n",
              "      <td>1.0</td>\n",
              "    </tr>\n",
              "    <tr>\n",
              "      <th>365</th>\n",
              "      <td>하림)버팔로치킨봉(하림)</td>\n",
              "      <td>1.0</td>\n",
              "    </tr>\n",
              "    <tr>\n",
              "      <th>366</th>\n",
              "      <td>통새우튀김200G(윈플러스)</td>\n",
              "      <td>-3.861306596709174</td>\n",
              "    </tr>\n",
              "  </tbody>\n",
              "</table>\n",
              "<p>367 rows × 2 columns</p>\n",
              "</div>"
            ],
            "text/plain": [
              "                          상품명              예상판매수량\n",
              "0     명가등심돈까스(200G*5)1KG(아워홈)   100.2612711497368\n",
              "1                 하림양념닭갈비(하림)                85.0\n",
              "2              빅핫도그140G(롯데푸드)   68.30950689347937\n",
              "3         동원미니돈까스450G(동원에프앤비)   58.33503002556607\n",
              "4          생가득올바른핫도그375G(풀무원)   51.80590664478655\n",
              "..                        ...                 ...\n",
              "362  생가득현미취나물솥밥(2인분)420G(풀무원)                 1.0\n",
              "363              치킨너겟550G(하림)                 1.0\n",
              "364         모짜렐라핫도그400G(롯데푸드)                 1.0\n",
              "365             하림)버팔로치킨봉(하림)                 1.0\n",
              "366           통새우튀김200G(윈플러스)  -3.861306596709174\n",
              "\n",
              "[367 rows x 2 columns]"
            ]
          },
          "metadata": {
            "tags": []
          },
          "execution_count": 90
        }
      ]
    },
    {
      "cell_type": "code",
      "metadata": {
        "colab": {
          "base_uri": "https://localhost:8080/",
          "height": 473
        },
        "id": "9AS3dVurhP3n",
        "outputId": "eb17958c-1a7b-4d2a-fc1d-a52322224ad8"
      },
      "source": [
        "# 아이템 기반 필터링\n",
        "recommendation_1000 = item_based_filtering(s_dict, '제주특별자치도')\n",
        "pd.DataFrame(np.array(recommendation_1000),columns=[\"상품명\",\"예상판매수량\"])\n"
      ],
      "execution_count": null,
      "outputs": [
        {
          "output_type": "stream",
          "text": [
            "■■■ 상품별 유사도 현황 ■■■\n",
            "예상 상품 :  오징어볼튀김오징어53.0%1KG(한성기업)  매출발생 상품 :  ('감자튀김750G(롯데푸드)', 1.0)  유사도 :  ('고기동그랑땡800G(진주)', 1.0)\n",
            "예상 상품 :  명가등심돈까스(200G*5)1KG(아워홈)  매출발생 상품 :  ('도톰등심돈까스1.5KG(한성기업)', 1.0)  유사도 :  ('명품동그랑땡1KG(동원에프앤비)', 1.0)\n"
          ],
          "name": "stdout"
        },
        {
          "output_type": "execute_result",
          "data": {
            "text/html": [
              "<div>\n",
              "<style scoped>\n",
              "    .dataframe tbody tr th:only-of-type {\n",
              "        vertical-align: middle;\n",
              "    }\n",
              "\n",
              "    .dataframe tbody tr th {\n",
              "        vertical-align: top;\n",
              "    }\n",
              "\n",
              "    .dataframe thead th {\n",
              "        text-align: right;\n",
              "    }\n",
              "</style>\n",
              "<table border=\"1\" class=\"dataframe\">\n",
              "  <thead>\n",
              "    <tr style=\"text-align: right;\">\n",
              "      <th></th>\n",
              "      <th>상품명</th>\n",
              "      <th>예상판매수량</th>\n",
              "    </tr>\n",
              "  </thead>\n",
              "  <tbody>\n",
              "    <tr>\n",
              "      <th>0</th>\n",
              "      <td>아워홈)숯불떡고기완자900g(아워홈)</td>\n",
              "      <td>22.365853658536587</td>\n",
              "    </tr>\n",
              "    <tr>\n",
              "      <th>1</th>\n",
              "      <td>A)프레시안/빕스새우볶음밥200G/냉동(씨제이제일제당)</td>\n",
              "      <td>22.365853658536587</td>\n",
              "    </tr>\n",
              "    <tr>\n",
              "      <th>2</th>\n",
              "      <td>사천풍중화볶음밥450G(롯데푸드)</td>\n",
              "      <td>20.32075471698113</td>\n",
              "    </tr>\n",
              "    <tr>\n",
              "      <th>3</th>\n",
              "      <td>하림양념닭갈비(하림)</td>\n",
              "      <td>19.55952380952381</td>\n",
              "    </tr>\n",
              "    <tr>\n",
              "      <th>4</th>\n",
              "      <td>청정원고메레시피차슈볶음밥양념(13G*2)26G(대상)</td>\n",
              "      <td>19.55952380952381</td>\n",
              "    </tr>\n",
              "    <tr>\n",
              "      <th>...</th>\n",
              "      <td>...</td>\n",
              "      <td>...</td>\n",
              "    </tr>\n",
              "    <tr>\n",
              "      <th>362</th>\n",
              "      <td>대림선잡채해물완자1KG(사조)</td>\n",
              "      <td>13.905467112187186</td>\n",
              "    </tr>\n",
              "    <tr>\n",
              "      <th>363</th>\n",
              "      <td>오쉐프새우볶음밥300G(오뚜기)</td>\n",
              "      <td>13.765914722140515</td>\n",
              "    </tr>\n",
              "    <tr>\n",
              "      <th>364</th>\n",
              "      <td>대림선동그랑땡1KG(사조)</td>\n",
              "      <td>13.487458389408687</td>\n",
              "    </tr>\n",
              "    <tr>\n",
              "      <th>365</th>\n",
              "      <td>하림)닭다리후라이드1Kg(하림)</td>\n",
              "      <td>13.352426398709063</td>\n",
              "    </tr>\n",
              "    <tr>\n",
              "      <th>366</th>\n",
              "      <td>동원잘재운참갈비720G(동원에프앤비)</td>\n",
              "      <td>12.621336299733146</td>\n",
              "    </tr>\n",
              "  </tbody>\n",
              "</table>\n",
              "<p>367 rows × 2 columns</p>\n",
              "</div>"
            ],
            "text/plain": [
              "                                상품명              예상판매수량\n",
              "0              아워홈)숯불떡고기완자900g(아워홈)  22.365853658536587\n",
              "1    A)프레시안/빕스새우볶음밥200G/냉동(씨제이제일제당)  22.365853658536587\n",
              "2                사천풍중화볶음밥450G(롯데푸드)   20.32075471698113\n",
              "3                       하림양념닭갈비(하림)   19.55952380952381\n",
              "4     청정원고메레시피차슈볶음밥양념(13G*2)26G(대상)   19.55952380952381\n",
              "..                              ...                 ...\n",
              "362                대림선잡채해물완자1KG(사조)  13.905467112187186\n",
              "363               오쉐프새우볶음밥300G(오뚜기)  13.765914722140515\n",
              "364                  대림선동그랑땡1KG(사조)  13.487458389408687\n",
              "365               하림)닭다리후라이드1Kg(하림)  13.352426398709063\n",
              "366            동원잘재운참갈비720G(동원에프앤비)  12.621336299733146\n",
              "\n",
              "[367 rows x 2 columns]"
            ]
          },
          "metadata": {
            "tags": []
          },
          "execution_count": 85
        }
      ]
    }
  ]
}